{
  "cells": [
    {
      "cell_type": "markdown",
      "metadata": {
        "id": "view-in-github",
        "colab_type": "text"
      },
      "source": [
        "<a href=\"https://colab.research.google.com/github/moondabae/breast-cancer/blob/main/Finalize_AI_Project.ipynb\" target=\"_parent\"><img src=\"https://colab.research.google.com/assets/colab-badge.svg\" alt=\"Open In Colab\"/></a>"
      ]
    },
    {
      "cell_type": "code",
      "execution_count": null,
      "metadata": {
        "id": "OKuZ0657z-GV"
      },
      "outputs": [],
      "source": [
        "import os\n",
        "import zipfile\n",
        "import tensorflow as tf\n",
        "from tensorflow.keras.preprocessing.image import ImageDataGenerator\n",
        "from tensorflow.keras import layers, models\n",
        "from tensorflow.keras import Model\n",
        "from keras.models import Sequential\n",
        "from keras.layers import Dense, Flatten, Dropout\n",
        "from tensorflow.keras import regularizers\n",
        "import matplotlib.pyplot as plt\n",
        "from tensorflow.keras.applications.vgg16 import VGG16, preprocess_input"
      ]
    },
    {
      "cell_type": "code",
      "execution_count": null,
      "metadata": {
        "colab": {
          "base_uri": "https://localhost:8080/"
        },
        "id": "Xs1LlvzlfMf6",
        "outputId": "b86a2830-60ce-40f8-c88c-592bc2829d42"
      },
      "outputs": [
        {
          "name": "stdout",
          "output_type": "stream",
          "text": [
            "Looking in indexes: https://pypi.org/simple, https://us-python.pkg.dev/colab-wheels/public/simple/\n",
            "Requirement already satisfied: gdown in /usr/local/lib/python3.8/dist-packages (4.6.0)\n",
            "Requirement already satisfied: requests[socks] in /usr/local/lib/python3.8/dist-packages (from gdown) (2.25.1)\n",
            "Requirement already satisfied: tqdm in /usr/local/lib/python3.8/dist-packages (from gdown) (4.64.1)\n",
            "Requirement already satisfied: six in /usr/local/lib/python3.8/dist-packages (from gdown) (1.15.0)\n",
            "Requirement already satisfied: beautifulsoup4 in /usr/local/lib/python3.8/dist-packages (from gdown) (4.6.3)\n",
            "Requirement already satisfied: filelock in /usr/local/lib/python3.8/dist-packages (from gdown) (3.9.0)\n",
            "Requirement already satisfied: urllib3<1.27,>=1.21.1 in /usr/local/lib/python3.8/dist-packages (from requests[socks]->gdown) (1.24.3)\n",
            "Requirement already satisfied: idna<3,>=2.5 in /usr/local/lib/python3.8/dist-packages (from requests[socks]->gdown) (2.10)\n",
            "Requirement already satisfied: certifi>=2017.4.17 in /usr/local/lib/python3.8/dist-packages (from requests[socks]->gdown) (2022.12.7)\n",
            "Requirement already satisfied: chardet<5,>=3.0.2 in /usr/local/lib/python3.8/dist-packages (from requests[socks]->gdown) (4.0.0)\n",
            "Requirement already satisfied: PySocks!=1.5.7,>=1.5.6 in /usr/local/lib/python3.8/dist-packages (from requests[socks]->gdown) (1.7.1)\n"
          ]
        }
      ],
      "source": [
        "!pip install --upgrade --no-cache-dir gdown"
      ]
    },
    {
      "cell_type": "code",
      "execution_count": null,
      "metadata": {
        "colab": {
          "base_uri": "https://localhost:8080/"
        },
        "id": "-dZlASkYAMVV",
        "outputId": "35cbd0c6-683d-44d1-f256-0b35deefb9f7"
      },
      "outputs": [
        {
          "name": "stdout",
          "output_type": "stream",
          "text": [
            "Downloading...\n",
            "From: https://drive.google.com/uc?id=1A9GeHfvLM9aTBd21vYYUWPDBFxHcyEo7\n",
            "To: /content/breast class.zip\n",
            "100% 5.53G/5.53G [00:35<00:00, 154MB/s]\n"
          ]
        }
      ],
      "source": [
        "!gdown 1A9GeHfvLM9aTBd21vYYUWPDBFxHcyEo7"
      ]
    },
    {
      "cell_type": "code",
      "execution_count": null,
      "metadata": {
        "colab": {
          "base_uri": "https://localhost:8080/"
        },
        "id": "fkVYq4mWmMqo",
        "outputId": "8f282c0e-aaa0-4811-d9df-654d69b133d8"
      },
      "outputs": [
        {
          "name": "stdout",
          "output_type": "stream",
          "text": [
            "Archive:  breast class.zip\n",
            "replace breast class/train/Grade 1/10a.tif? [y]es, [n]o, [A]ll, [N]one, [r]ename: A\n",
            "  inflating: breast class/train/Grade 1/10a.tif  \n",
            "  inflating: breast class/train/Grade 1/11a.tif  \n",
            "  inflating: breast class/train/Grade 1/12a.tif  \n",
            "  inflating: breast class/train/Grade 1/13a.tif  \n",
            "  inflating: breast class/train/Grade 1/14a.tif  \n",
            "  inflating: breast class/train/Grade 1/15a.tif  \n",
            "  inflating: breast class/train/Grade 1/16a.tif  \n",
            "  inflating: breast class/train/Grade 1/17a.tif  \n",
            "  inflating: breast class/train/Grade 1/18a.tif  \n",
            "  inflating: breast class/train/Grade 1/19a.tif  \n",
            "  inflating: breast class/train/Grade 1/1a.tif  \n",
            "  inflating: breast class/train/Grade 1/20a.tif  \n",
            "  inflating: breast class/train/Grade 1/21a.tif  \n",
            "  inflating: breast class/train/Grade 1/22a.tif  \n",
            "  inflating: breast class/train/Grade 1/23a.tif  \n",
            "  inflating: breast class/train/Grade 1/24a.tif  \n",
            "  inflating: breast class/train/Grade 1/25a.tif  \n",
            "  inflating: breast class/train/Grade 1/26a.tif  \n",
            "  inflating: breast class/train/Grade 1/27a.tif  \n",
            "  inflating: breast class/train/Grade 1/28a.tif  \n",
            "  inflating: breast class/train/Grade 1/29a.tif  \n",
            "  inflating: breast class/train/Grade 1/2a.tif  \n",
            "  inflating: breast class/train/Grade 1/30a.tif  \n",
            "  inflating: breast class/train/Grade 1/31a.tif  \n",
            "  inflating: breast class/train/Grade 1/32a.tif  \n",
            "  inflating: breast class/train/Grade 1/33a.tif  \n",
            "  inflating: breast class/train/Grade 1/34a.tif  \n",
            "  inflating: breast class/train/Grade 1/35a.tif  \n",
            "  inflating: breast class/train/Grade 1/36a.tif  \n",
            "  inflating: breast class/train/Grade 1/37a.tif  \n",
            "  inflating: breast class/train/Grade 1/38a.tif  \n",
            "  inflating: breast class/train/Grade 1/39a.tif  \n",
            "  inflating: breast class/train/Grade 1/3a.tif  \n",
            "  inflating: breast class/train/Grade 1/40a.tif  \n",
            "  inflating: breast class/train/Grade 1/41a.tif  \n",
            "  inflating: breast class/train/Grade 1/4a.tif  \n",
            "  inflating: breast class/train/Grade 1/5a.tif  \n",
            "  inflating: breast class/train/Grade 1/6a.tif  \n",
            "  inflating: breast class/train/Grade 1/7a.tif  \n",
            "  inflating: breast class/train/Grade 1/8a.tif  \n",
            "  inflating: breast class/train/Grade 1/9a.tif  \n",
            "  inflating: breast class/train/Grade 2/10a.tif  \n",
            "  inflating: breast class/train/Grade 2/11a.tif  \n",
            "  inflating: breast class/train/Grade 2/12a.tif  \n",
            "  inflating: breast class/train/Grade 2/13a.tif  \n",
            "  inflating: breast class/train/Grade 2/14a.tif  \n",
            "  inflating: breast class/train/Grade 2/15a.tif  \n",
            "  inflating: breast class/train/Grade 2/16a.tif  \n",
            "  inflating: breast class/train/Grade 2/17a.tif  \n",
            "  inflating: breast class/train/Grade 2/18a.tif  \n",
            "  inflating: breast class/train/Grade 2/19a.tif  \n",
            "  inflating: breast class/train/Grade 2/1a.tif  \n",
            "  inflating: breast class/train/Grade 2/20a.tif  \n",
            "  inflating: breast class/train/Grade 2/21a.tif  \n",
            "  inflating: breast class/train/Grade 2/22a.tif  \n",
            "  inflating: breast class/train/Grade 2/23a.tif  \n",
            "  inflating: breast class/train/Grade 2/24a.tif  \n",
            "  inflating: breast class/train/Grade 2/25a.tif  \n",
            "  inflating: breast class/train/Grade 2/26a.tif  \n",
            "  inflating: breast class/train/Grade 2/27a.tif  \n",
            "  inflating: breast class/train/Grade 2/28a.tif  \n",
            "  inflating: breast class/train/Grade 2/29a.tif  \n",
            "  inflating: breast class/train/Grade 2/2a.tif  \n",
            "  inflating: breast class/train/Grade 2/30a.tif  \n",
            "  inflating: breast class/train/Grade 2/31a.tif  \n",
            "  inflating: breast class/train/Grade 2/32a.tif  \n",
            "  inflating: breast class/train/Grade 2/33a.tif  \n",
            "  inflating: breast class/train/Grade 2/34a.tif  \n",
            "  inflating: breast class/train/Grade 2/35a.tif  \n",
            "  inflating: breast class/train/Grade 2/37a.tif  \n",
            "  inflating: breast class/train/Grade 2/39a.tif  \n",
            "  inflating: breast class/train/Grade 2/3a.tif  \n",
            "  inflating: breast class/train/Grade 2/40a.tif  \n",
            "  inflating: breast class/train/Grade 2/41a.tif  \n",
            "  inflating: breast class/train/Grade 2/4a.tif  \n",
            "  inflating: breast class/train/Grade 2/5a.tif  \n",
            "  inflating: breast class/train/Grade 2/6a.tif  \n",
            "  inflating: breast class/train/Grade 2/7a.tif  \n",
            "  inflating: breast class/train/Grade 2/8a.tif  \n",
            "  inflating: breast class/train/Grade 2/9a.tif  \n",
            "  inflating: breast class/train/Grade 3/10a.tif  \n",
            "  inflating: breast class/train/Grade 3/11a.tif  \n",
            "  inflating: breast class/train/Grade 3/12a.tif  \n",
            "  inflating: breast class/train/Grade 3/13a.tif  \n",
            "  inflating: breast class/train/Grade 3/14a.tif  \n",
            "  inflating: breast class/train/Grade 3/15a.tif  \n",
            "  inflating: breast class/train/Grade 3/16a.tif  \n",
            "  inflating: breast class/train/Grade 3/17a.tif  \n",
            "  inflating: breast class/train/Grade 3/18a.tif  \n",
            "  inflating: breast class/train/Grade 3/1a.tif  \n",
            "  inflating: breast class/train/Grade 3/20a.tif  \n",
            "  inflating: breast class/train/Grade 3/21a.tif  \n",
            "  inflating: breast class/train/Grade 3/22a.tif  \n",
            "  inflating: breast class/train/Grade 3/23a.tif  \n",
            "  inflating: breast class/train/Grade 3/24a.tif  \n",
            "  inflating: breast class/train/Grade 3/25a.tif  \n",
            "  inflating: breast class/train/Grade 3/26a.tif  \n",
            "  inflating: breast class/train/Grade 3/27a.tif  \n",
            "  inflating: breast class/train/Grade 3/28a.tif  \n",
            "  inflating: breast class/train/Grade 3/29a.tif  \n",
            "  inflating: breast class/train/Grade 3/2a.tif  \n",
            "  inflating: breast class/train/Grade 3/30a.tif  \n",
            "  inflating: breast class/train/Grade 3/31a.tif  \n",
            "  inflating: breast class/train/Grade 3/32a.tif  \n",
            "  inflating: breast class/train/Grade 3/33a.tif  \n",
            "  inflating: breast class/train/Grade 3/34a.tif  \n",
            "  inflating: breast class/train/Grade 3/35a.tif  \n",
            "  inflating: breast class/train/Grade 3/37a.tif  \n",
            "  inflating: breast class/train/Grade 3/38a.tif  \n",
            "  inflating: breast class/train/Grade 3/39a.tif  \n",
            "  inflating: breast class/train/Grade 3/3a.tif  \n",
            "  inflating: breast class/train/Grade 3/40a.tif  \n",
            "  inflating: breast class/train/Grade 3/41a.tif  \n",
            "  inflating: breast class/train/Grade 3/4a.tif  \n",
            "  inflating: breast class/train/Grade 3/5a.tif  \n",
            "  inflating: breast class/train/Grade 3/6a.tif  \n",
            "  inflating: breast class/train/Grade 3/7a.tif  \n",
            "  inflating: breast class/train/Grade 3/8a.tif  \n",
            "  inflating: breast class/train/Grade 3/9a.tif  \n",
            "  inflating: breast class/validation/Grade 1/42a.tif  \n",
            "  inflating: breast class/validation/Grade 1/43a.tif  \n",
            "  inflating: breast class/validation/Grade 1/44a.tif  \n",
            "  inflating: breast class/validation/Grade 1/45a.tif  \n",
            "  inflating: breast class/validation/Grade 1/46a.tif  \n",
            "  inflating: breast class/validation/Grade 1/47a.tif  \n",
            "  inflating: breast class/validation/Grade 1/48a.tif  \n",
            "  inflating: breast class/validation/Grade 1/49a.tif  \n",
            "  inflating: breast class/validation/Grade 1/50a.tif  \n",
            "  inflating: breast class/validation/Grade 1/51a.tif  \n",
            "  inflating: breast class/validation/Grade 1/52a.tif  \n",
            "  inflating: breast class/validation/Grade 1/53a.tif  \n",
            "  inflating: breast class/validation/Grade 1/54a.tif  \n",
            "  inflating: breast class/validation/Grade 1/55a.tif  \n",
            "  inflating: breast class/validation/Grade 1/56a.tif  \n",
            "  inflating: breast class/validation/Grade 2/42a.tif  \n",
            "  inflating: breast class/validation/Grade 2/43a.tif  \n",
            "  inflating: breast class/validation/Grade 2/44a.tif  \n",
            "  inflating: breast class/validation/Grade 2/45a.tif  \n",
            "  inflating: breast class/validation/Grade 2/46a.tif  \n",
            "  inflating: breast class/validation/Grade 2/47a.tif  \n",
            "  inflating: breast class/validation/Grade 2/48a.tif  \n",
            "  inflating: breast class/validation/Grade 2/49a.tif  \n",
            "  inflating: breast class/validation/Grade 2/51a.tif  \n",
            "  inflating: breast class/validation/Grade 2/52a.tif  \n",
            "  inflating: breast class/validation/Grade 2/53a.tif  \n",
            "  inflating: breast class/validation/Grade 2/54a.tif  \n",
            "  inflating: breast class/validation/Grade 2/55a.tif  \n",
            "  inflating: breast class/validation/Grade 2/56a.tif  \n",
            "  inflating: breast class/validation/Grade 2/57a.tif  \n",
            "  inflating: breast class/validation/Grade 3/42a.tif  \n",
            "  inflating: breast class/validation/Grade 3/43a.tif  \n",
            "  inflating: breast class/validation/Grade 3/44a.tif  \n",
            "  inflating: breast class/validation/Grade 3/45a.tif  \n",
            "  inflating: breast class/validation/Grade 3/46a.tif  \n",
            "  inflating: breast class/validation/Grade 3/47a.tif  \n",
            "  inflating: breast class/validation/Grade 3/48a.tif  \n",
            "  inflating: breast class/validation/Grade 3/49a.tif  \n",
            "  inflating: breast class/validation/Grade 3/50a.tif  \n",
            "  inflating: breast class/validation/Grade 3/51a.tif  \n",
            "  inflating: breast class/validation/Grade 3/52a.tif  \n",
            "  inflating: breast class/validation/Grade 3/53a.tif  \n",
            "  inflating: breast class/validation/Grade 3/54a.tif  \n",
            "  inflating: breast class/validation/Grade 3/55a.tif  \n",
            "  inflating: breast class/validation/Grade 3/56a.tif  \n"
          ]
        }
      ],
      "source": [
        "!unzip \"breast class.zip\""
      ]
    },
    {
      "cell_type": "code",
      "execution_count": null,
      "metadata": {
        "id": "Zhfo0boTAUDV"
      },
      "outputs": [],
      "source": [
        "#Input Dataset\n",
        "base_dir = '/content/breast class'\n",
        "train_dir = os.path.join(base_dir, 'train')\n",
        "validation_dir = os.path.join(base_dir, 'validation')"
      ]
    },
    {
      "cell_type": "code",
      "execution_count": null,
      "metadata": {
        "id": "6CtVHaqBAVjt"
      },
      "outputs": [],
      "source": [
        "# Add data-augmentation parameters to ImageDataGenerator\n",
        "train_datagen = ImageDataGenerator(preprocessing_function=preprocess_input)\n",
        "test_datagen = ImageDataGenerator(preprocessing_function=preprocess_input)"
      ]
    },
    {
      "cell_type": "code",
      "execution_count": null,
      "metadata": {
        "colab": {
          "base_uri": "https://localhost:8080/"
        },
        "id": "TGxa6HJwAWvE",
        "outputId": "61710f53-0270-42b5-bc9f-15ce99cdb6a6"
      },
      "outputs": [
        {
          "name": "stdout",
          "output_type": "stream",
          "text": [
            "Found 119 images belonging to 3 classes.\n",
            "Found 45 images belonging to 3 classes.\n"
          ]
        }
      ],
      "source": [
        "# Used Categorical class mode\n",
        "# Flow validation images in batches of 8 and train in batches of 32\n",
        "train_generator = train_datagen.flow_from_directory(train_dir, batch_size = 32, class_mode = 'categorical', target_size = (224, 224), shuffle=False, classes={'Grade 1': 0, 'Grade 2': 1,'Grade 3': 2})\n",
        "validation_generator = test_datagen.flow_from_directory(validation_dir, batch_size = 8, class_mode = 'categorical', target_size = (224, 224), shuffle=False, classes={'Grade 1': 0, 'Grade 2': 1,'Grade 3': 2})"
      ]
    },
    {
      "cell_type": "code",
      "execution_count": null,
      "metadata": {
        "id": "yEtCWgIwAeR0"
      },
      "outputs": [],
      "source": [
        "#Add VGG16 into Base Model\n",
        "base_model = VGG16(input_shape = (224, 224, 3), # Shape of our images\n",
        "include_top = False,\n",
        "weights = 'imagenet')\n",
        "base_model.trainable = False"
      ]
    },
    {
      "cell_type": "code",
      "execution_count": null,
      "metadata": {
        "id": "YKtTplqsBfMc"
      },
      "outputs": [],
      "source": [
        "num_class = 3\n",
        "# Created Sequential Model\n",
        "model = tf.keras.Sequential()\n",
        "model.add(base_model)\n",
        "model.add(tf.keras.layers.GlobalAveragePooling2D())\n",
        "\n",
        "# Flatten the output layer to 1 dimension\n",
        "model.add(tf.keras.layers.Flatten())\n",
        "\n",
        "# Add a fully connected layer with 512 hidden units and ReLU activation\n",
        "model.add(tf.keras.layers.Dense(512, activation='relu'))\n",
        "\n",
        "# Add a dropout rate of 0.5\n",
        "model.add(tf.keras.layers.Dropout(0.5))\n",
        "\n",
        "# Add a final softmax layer with 3 node for classification output\n",
        "model.add(tf.keras.layers.Dense(num_class, activation='softmax'))"
      ]
    },
    {
      "cell_type": "code",
      "execution_count": null,
      "metadata": {
        "id": "2ecpL9mnBHit"
      },
      "outputs": [],
      "source": [
        "#Compile with optimizer Adam with LN=0.0005 with categorical_crossentropy for loss\n",
        "model.compile(optimizer = tf.keras.optimizers.Adam(learning_rate=0.0005), loss='categorical_crossentropy', metrics = ['acc'])"
      ]
    },
    {
      "cell_type": "code",
      "execution_count": null,
      "metadata": {
        "colab": {
          "background_save": true,
          "base_uri": "https://localhost:8080/"
        },
        "id": "f2698LqnChqP",
        "outputId": "43b5c1b3-4256-4975-e62c-38570f38cdb5"
      },
      "outputs": [
        {
          "name": "stdout",
          "output_type": "stream",
          "text": [
            "Epoch 1/30\n",
            "4/4 [==============================] - 101s 26s/step - loss: 8.1821 - acc: 0.2353 - val_loss: 3.6183 - val_acc: 0.3333\n",
            "Epoch 2/30\n",
            "4/4 [==============================] - 96s 25s/step - loss: 3.9026 - acc: 0.4874 - val_loss: 3.0192 - val_acc: 0.3778\n",
            "Epoch 3/30\n",
            "4/4 [==============================] - 99s 26s/step - loss: 3.6969 - acc: 0.4202 - val_loss: 2.6601 - val_acc: 0.3333\n",
            "Epoch 4/30\n",
            "4/4 [==============================] - 94s 27s/step - loss: 3.7947 - acc: 0.3950 - val_loss: 2.6621 - val_acc: 0.3556\n",
            "Epoch 5/30\n",
            "4/4 [==============================] - 93s 25s/step - loss: 3.6980 - acc: 0.4202 - val_loss: 3.2608 - val_acc: 0.4444\n",
            "Epoch 6/30\n",
            "4/4 [==============================] - 99s 27s/step - loss: 3.1058 - acc: 0.5126 - val_loss: 2.0740 - val_acc: 0.4667\n",
            "Epoch 7/30\n",
            "4/4 [==============================] - 91s 24s/step - loss: 2.4142 - acc: 0.5798 - val_loss: 2.0825 - val_acc: 0.4667\n",
            "Epoch 8/30\n",
            "4/4 [==============================] - 89s 23s/step - loss: 2.3515 - acc: 0.5882 - val_loss: 2.0963 - val_acc: 0.5111\n",
            "Epoch 9/30\n",
            "4/4 [==============================] - 90s 24s/step - loss: 1.3202 - acc: 0.7227 - val_loss: 2.4452 - val_acc: 0.2889\n",
            "Epoch 10/30\n",
            "4/4 [==============================] - 88s 25s/step - loss: 1.8610 - acc: 0.6387 - val_loss: 2.5362 - val_acc: 0.3333\n",
            "Epoch 11/30\n",
            "4/4 [==============================] - 93s 24s/step - loss: 1.6114 - acc: 0.6555 - val_loss: 2.5014 - val_acc: 0.3333\n",
            "Epoch 12/30\n",
            "4/4 [==============================] - 91s 23s/step - loss: 1.2427 - acc: 0.7227 - val_loss: 2.2553 - val_acc: 0.4889\n",
            "Epoch 13/30\n",
            "4/4 [==============================] - 92s 24s/step - loss: 1.2536 - acc: 0.7227 - val_loss: 2.3886 - val_acc: 0.5111\n",
            "Epoch 14/30\n",
            "4/4 [==============================] - 88s 23s/step - loss: 0.8737 - acc: 0.7815 - val_loss: 2.4171 - val_acc: 0.4889\n",
            "Epoch 15/30\n",
            "4/4 [==============================] - 95s 26s/step - loss: 1.4309 - acc: 0.7395 - val_loss: 2.4751 - val_acc: 0.4222\n",
            "Epoch 16/30\n",
            "4/4 [==============================] - 91s 24s/step - loss: 0.8632 - acc: 0.8151 - val_loss: 2.7760 - val_acc: 0.3556\n",
            "Epoch 17/30\n",
            "4/4 [==============================] - 88s 23s/step - loss: 0.8607 - acc: 0.8151 - val_loss: 2.5845 - val_acc: 0.4000\n",
            "Epoch 18/30\n",
            "4/4 [==============================] - 90s 24s/step - loss: 1.0509 - acc: 0.7395 - val_loss: 2.4496 - val_acc: 0.5111\n",
            "Epoch 19/30\n",
            "4/4 [==============================] - 88s 25s/step - loss: 0.8559 - acc: 0.7479 - val_loss: 2.6384 - val_acc: 0.4222\n",
            "Epoch 20/30\n",
            "4/4 [==============================] - 96s 24s/step - loss: 0.4744 - acc: 0.8655 - val_loss: 2.7008 - val_acc: 0.4000\n",
            "Epoch 21/30\n",
            "4/4 [==============================] - 92s 23s/step - loss: 0.4595 - acc: 0.8487 - val_loss: 2.6383 - val_acc: 0.4444\n",
            "Epoch 22/30\n",
            "4/4 [==============================] - 93s 27s/step - loss: 0.4396 - acc: 0.8992 - val_loss: 2.6188 - val_acc: 0.4667\n",
            "Epoch 23/30\n",
            "4/4 [==============================] - 88s 25s/step - loss: 0.6366 - acc: 0.8067 - val_loss: 2.8518 - val_acc: 0.4222\n",
            "Epoch 24/30\n",
            "4/4 [==============================] - 90s 24s/step - loss: 0.5963 - acc: 0.8403 - val_loss: 2.8651 - val_acc: 0.4444\n",
            "Epoch 25/30\n",
            "4/4 [==============================] - 94s 25s/step - loss: 0.2949 - acc: 0.8908 - val_loss: 2.9059 - val_acc: 0.4222\n",
            "Epoch 26/30\n",
            "4/4 [==============================] - 91s 24s/step - loss: 0.2134 - acc: 0.8992 - val_loss: 2.9603 - val_acc: 0.4222\n",
            "Epoch 27/30\n",
            "4/4 [==============================] - 88s 25s/step - loss: 0.3106 - acc: 0.8908 - val_loss: 3.0268 - val_acc: 0.4222\n",
            "Epoch 28/30\n",
            "4/4 [==============================] - 90s 24s/step - loss: 0.3534 - acc: 0.8992 - val_loss: 2.9819 - val_acc: 0.4444\n",
            "Epoch 29/30\n",
            "4/4 [==============================] - 89s 23s/step - loss: 0.2566 - acc: 0.8992 - val_loss: 3.0879 - val_acc: 0.4000\n",
            "Epoch 30/30\n",
            "4/4 [==============================] - 90s 24s/step - loss: 0.2347 - acc: 0.9412 - val_loss: 3.0205 - val_acc: 0.4222\n"
          ]
        }
      ],
      "source": [
        "#train and store the data of machine learning into variable vgghist for graph later on\n",
        "vgghist = model.fit(train_generator, validation_data = validation_generator, steps_per_epoch = len(train_generator), epochs = 30, verbose = 1)"
      ]
    },
    {
      "cell_type": "code",
      "execution_count": null,
      "metadata": {
        "colab": {
          "base_uri": "https://localhost:8080/",
          "height": 236
        },
        "id": "RFg8NE1YK6vS",
        "outputId": "42946719-3bf4-45c4-d519-6ee5ac3576f2"
      },
      "outputs": [
        {
          "ename": "NameError",
          "evalue": "ignored",
          "output_type": "error",
          "traceback": [
            "\u001b[0;31m---------------------------------------------------------------------------\u001b[0m",
            "\u001b[0;31mNameError\u001b[0m                                 Traceback (most recent call last)",
            "\u001b[0;32m<ipython-input-18-b691a075cb7c>\u001b[0m in \u001b[0;36m<module>\u001b[0;34m\u001b[0m\n\u001b[1;32m      1\u001b[0m \u001b[0;31m#Graph for accuracy for both training and validation\u001b[0m\u001b[0;34m\u001b[0m\u001b[0;34m\u001b[0m\u001b[0;34m\u001b[0m\u001b[0m\n\u001b[1;32m      2\u001b[0m \u001b[0;34m\u001b[0m\u001b[0m\n\u001b[0;32m----> 3\u001b[0;31m \u001b[0macc\u001b[0m \u001b[0;34m=\u001b[0m \u001b[0mvgghist\u001b[0m\u001b[0;34m.\u001b[0m\u001b[0mhistory\u001b[0m\u001b[0;34m[\u001b[0m\u001b[0;34m'acc'\u001b[0m\u001b[0;34m]\u001b[0m\u001b[0;34m\u001b[0m\u001b[0;34m\u001b[0m\u001b[0m\n\u001b[0m\u001b[1;32m      4\u001b[0m \u001b[0mval_acc\u001b[0m \u001b[0;34m=\u001b[0m \u001b[0mvgghist\u001b[0m\u001b[0;34m.\u001b[0m\u001b[0mhistory\u001b[0m\u001b[0;34m[\u001b[0m\u001b[0;34m'val_acc'\u001b[0m\u001b[0;34m]\u001b[0m\u001b[0;34m\u001b[0m\u001b[0;34m\u001b[0m\u001b[0m\n\u001b[1;32m      5\u001b[0m \u001b[0mepochs\u001b[0m \u001b[0;34m=\u001b[0m \u001b[0mrange\u001b[0m\u001b[0;34m(\u001b[0m\u001b[0;36m1\u001b[0m\u001b[0;34m,\u001b[0m \u001b[0mlen\u001b[0m\u001b[0;34m(\u001b[0m\u001b[0macc\u001b[0m\u001b[0;34m)\u001b[0m \u001b[0;34m+\u001b[0m \u001b[0;36m1\u001b[0m\u001b[0;34m)\u001b[0m\u001b[0;34m\u001b[0m\u001b[0;34m\u001b[0m\u001b[0m\n",
            "\u001b[0;31mNameError\u001b[0m: name 'vgghist' is not defined"
          ]
        }
      ],
      "source": [
        "#Graph of accuracy for both training and validation\n",
        "\n",
        "acc = vgghist.history['acc']\n",
        "val_acc = vgghist.history['val_acc']\n",
        "epochs = range(1, len(acc) + 1)\n",
        "plt.plot(epochs, acc, 'y', label = 'Training Accuracy')\n",
        "plt.plot(epochs, val_acc, 'r', label = 'Validation Accuracy')\n",
        "plt.title('Training and Validation Accuracy')\n",
        "plt.xlabel('Epochs')\n",
        "plt.ylabel('Accuracy')\n",
        "\n",
        "plt.legend()\n",
        "plt.show()"
      ]
    },
    {
      "cell_type": "code",
      "execution_count": null,
      "metadata": {
        "colab": {
          "base_uri": "https://localhost:8080/",
          "height": 295
        },
        "id": "q7-p2BXAK7_7",
        "outputId": "5cb5dfa0-9832-4b72-d41d-52f0584d9432"
      },
      "outputs": [
        {
          "data": {
            "image/png": "[encoded data removed]",
            "text/plain": [
              "<Figure size 432x288 with 1 Axes>"
            ]
          },
          "metadata": {},
          "output_type": "display_data"
        }
      ],
      "source": [
        "#Graph of loss for both training and validation\n",
        "\n",
        "loss = vgghist.history['loss']\n",
        "loss_acc = vgghist.history['val_loss']\n",
        "plt.plot(epochs, loss, 'y', label = 'Training Loss')\n",
        "plt.plot(epochs, loss_acc, 'r', label = 'Validation Loss')\n",
        "plt.title('Training and Validation Loss')\n",
        "plt.xlabel('Epochs')\n",
        "plt.ylabel('Accuracy')\n",
        "\n",
        "plt.legend()\n",
        "plt.show()"
      ]
    },
    {
      "cell_type": "code",
      "execution_count": null,
      "metadata": {
        "colab": {
          "base_uri": "https://localhost:8080/",
          "height": 542
        },
        "id": "Qqp5iyEi1AhH",
        "outputId": "84bacbb8-1eb7-4ae4-b9a2-d02155c2bfc5"
      },
      "outputs": [
        {
          "data": {
            "text/html": [
              "<html>\n",
              "<head><meta charset=\"utf-8\" /></head>\n",
              "<body>\n",
              "    <div>            <script src=\"https://cdnjs.cloudflare.com/ajax/libs/mathjax/2.7.5/MathJax.js?config=TeX-AMS-MML_SVG\"></script><script type=\"text/javascript\">if (window.MathJax) {MathJax.Hub.Config({SVG: {font: \"STIX-Web\"}});}</script>                <script type=\"text/javascript\">window.PlotlyConfig = {MathJaxConfig: 'local'};</script>\n",
              "        <script src=\"https://cdn.plot.ly/plotly-2.8.3.min.js\"></script>                <div id=\"b16809db-edd5-466b-973b-e978a1376a84\" class=\"plotly-graph-div\" style=\"height:525px; width:100%;\"></div>            <script type=\"text/javascript\">                                    window.PLOTLYENV=window.PLOTLYENV || {};                                    if (document.getElementById(\"b16809db-edd5-466b-973b-e978a1376a84\")) {                    Plotly.newPlot(                        \"b16809db-edd5-466b-973b-e978a1376a84\",                        [{\"name\":\"Validation loss\",\"y\":[2.4385714530944824,1.605950951576233,2.3946588039398193,1.341496229171753,1.169299602508545,1.2849005460739136,1.5988712310791016,1.4043444395065308,1.3273892402648926,1.2642468214035034,1.182210922241211,1.4925681352615356,1.3933846950531006,1.514433741569519,1.5144734382629395,1.6274486780166626,1.610874891281128,1.466860055923462,1.60129976272583,1.6543318033218384,1.6254757642745972,1.6859456300735474,1.7206581830978394,1.65841805934906,1.6247758865356445,1.6471564769744873,2.182464361190796,2.203922748565674,1.8255550861358643,1.6870917081832886],\"type\":\"scatter\",\"xaxis\":\"x\",\"yaxis\":\"y\"},{\"name\":\"Loss\",\"y\":[6.978744029998779,4.341804027557373,4.367956638336182,3.299776792526245,2.8212358951568604,2.8245902061462402,2.4570400714874268,2.743992805480957,1.9156426191329956,2.1721138954162598,1.620124340057373,1.4350101947784424,1.1165887117385864,1.6772078275680542,1.4492629766464233,1.052002191543579,1.123655915260315,0.7870916724205017,0.8450902700424194,0.8451145887374878,0.679699718952179,0.48534080386161804,0.5721573829650879,0.7115164399147034,0.4578189253807068,0.6206031441688538,0.4939826726913452,0.5029658079147339,0.4231415092945099,0.3429986238479614],\"type\":\"scatter\",\"xaxis\":\"x\",\"yaxis\":\"y\"},{\"name\":\"Validation accuracy\",\"y\":[0.46666666865348816,0.5555555820465088,0.42222222685813904,0.5777778029441833,0.644444465637207,0.6222222447395325,0.5333333611488342,0.5333333611488342,0.5555555820465088,0.6000000238418579,0.5555555820465088,0.6222222447395325,0.6000000238418579,0.42222222685813904,0.4444444477558136,0.42222222685813904,0.4444444477558136,0.46666666865348816,0.4444444477558136,0.5555555820465088,0.5111111402511597,0.46666666865348816,0.4444444477558136,0.42222222685813904,0.4444444477558136,0.42222222685813904,0.5111111402511597,0.4888888895511627,0.46666666865348816,0.4888888895511627],\"type\":\"scatter\",\"xaxis\":\"x\",\"yaxis\":\"y2\"},{\"name\":\"Accuracy\",\"y\":[0.21848739683628082,0.4285714328289032,0.3781512677669525,0.4789915978908539,0.5798319578170776,0.4957983195781708,0.5714285969734192,0.45378151535987854,0.6134454011917114,0.6386554837226868,0.605042040348053,0.6722689270973206,0.7394958138465881,0.5882353186607361,0.6554622054100037,0.7647058963775635,0.7394958138465881,0.7731092572212219,0.7731092572212219,0.756302535533905,0.8067227005958557,0.8655462265014648,0.8403361439704895,0.7899159789085388,0.8235294222831726,0.7815126180648804,0.831932783126831,0.848739504814148,0.8571428656578064,0.9075630307197571],\"type\":\"scatter\",\"xaxis\":\"x\",\"yaxis\":\"y2\"}],                        {\"template\":{\"data\":{\"bar\":[{\"error_x\":{\"color\":\"#2a3f5f\"},\"error_y\":{\"color\":\"#2a3f5f\"},\"marker\":{\"line\":{\"color\":\"#E5ECF6\",\"width\":0.5},\"pattern\":{\"fillmode\":\"overlay\",\"size\":10,\"solidity\":0.2}},\"type\":\"bar\"}],\"barpolar\":[{\"marker\":{\"line\":{\"color\":\"#E5ECF6\",\"width\":0.5},\"pattern\":{\"fillmode\":\"overlay\",\"size\":10,\"solidity\":0.2}},\"type\":\"barpolar\"}],\"carpet\":[{\"aaxis\":{\"endlinecolor\":\"#2a3f5f\",\"gridcolor\":\"white\",\"linecolor\":\"white\",\"minorgridcolor\":\"white\",\"startlinecolor\":\"#2a3f5f\"},\"baxis\":{\"endlinecolor\":\"#2a3f5f\",\"gridcolor\":\"white\",\"linecolor\":\"white\",\"minorgridcolor\":\"white\",\"startlinecolor\":\"#2a3f5f\"},\"type\":\"carpet\"}],\"choropleth\":[{\"colorbar\":{\"outlinewidth\":0,\"ticks\":\"\"},\"type\":\"choropleth\"}],\"contour\":[{\"colorbar\":{\"outlinewidth\":0,\"ticks\":\"\"},\"colorscale\":[[0.0,\"#0d0887\"],[0.1111111111111111,\"#46039f\"],[0.2222222222222222,\"#7201a8\"],[0.3333333333333333,\"#9c179e\"],[0.4444444444444444,\"#bd3786\"],[0.5555555555555556,\"#d8576b\"],[0.6666666666666666,\"#ed7953\"],[0.7777777777777778,\"#fb9f3a\"],[0.8888888888888888,\"#fdca26\"],[1.0,\"#f0f921\"]],\"type\":\"contour\"}],\"contourcarpet\":[{\"colorbar\":{\"outlinewidth\":0,\"ticks\":\"\"},\"type\":\"contourcarpet\"}],\"heatmap\":[{\"colorbar\":{\"outlinewidth\":0,\"ticks\":\"\"},\"colorscale\":[[0.0,\"#0d0887\"],[0.1111111111111111,\"#46039f\"],[0.2222222222222222,\"#7201a8\"],[0.3333333333333333,\"#9c179e\"],[0.4444444444444444,\"#bd3786\"],[0.5555555555555556,\"#d8576b\"],[0.6666666666666666,\"#ed7953\"],[0.7777777777777778,\"#fb9f3a\"],[0.8888888888888888,\"#fdca26\"],[1.0,\"#f0f921\"]],\"type\":\"heatmap\"}],\"heatmapgl\":[{\"colorbar\":{\"outlinewidth\":0,\"ticks\":\"\"},\"colorscale\":[[0.0,\"#0d0887\"],[0.1111111111111111,\"#46039f\"],[0.2222222222222222,\"#7201a8\"],[0.3333333333333333,\"#9c179e\"],[0.4444444444444444,\"#bd3786\"],[0.5555555555555556,\"#d8576b\"],[0.6666666666666666,\"#ed7953\"],[0.7777777777777778,\"#fb9f3a\"],[0.8888888888888888,\"#fdca26\"],[1.0,\"#f0f921\"]],\"type\":\"heatmapgl\"}],\"histogram\":[{\"marker\":{\"pattern\":{\"fillmode\":\"overlay\",\"size\":10,\"solidity\":0.2}},\"type\":\"histogram\"}],\"histogram2d\":[{\"colorbar\":{\"outlinewidth\":0,\"ticks\":\"\"},\"colorscale\":[[0.0,\"#0d0887\"],[0.1111111111111111,\"#46039f\"],[0.2222222222222222,\"#7201a8\"],[0.3333333333333333,\"#9c179e\"],[0.4444444444444444,\"#bd3786\"],[0.5555555555555556,\"#d8576b\"],[0.6666666666666666,\"#ed7953\"],[0.7777777777777778,\"#fb9f3a\"],[0.8888888888888888,\"#fdca26\"],[1.0,\"#f0f921\"]],\"type\":\"histogram2d\"}],\"histogram2dcontour\":[{\"colorbar\":{\"outlinewidth\":0,\"ticks\":\"\"},\"colorscale\":[[0.0,\"#0d0887\"],[0.1111111111111111,\"#46039f\"],[0.2222222222222222,\"#7201a8\"],[0.3333333333333333,\"#9c179e\"],[0.4444444444444444,\"#bd3786\"],[0.5555555555555556,\"#d8576b\"],[0.6666666666666666,\"#ed7953\"],[0.7777777777777778,\"#fb9f3a\"],[0.8888888888888888,\"#fdca26\"],[1.0,\"#f0f921\"]],\"type\":\"histogram2dcontour\"}],\"mesh3d\":[{\"colorbar\":{\"outlinewidth\":0,\"ticks\":\"\"},\"type\":\"mesh3d\"}],\"parcoords\":[{\"line\":{\"colorbar\":{\"outlinewidth\":0,\"ticks\":\"\"}},\"type\":\"parcoords\"}],\"pie\":[{\"automargin\":true,\"type\":\"pie\"}],\"scatter\":[{\"marker\":{\"colorbar\":{\"outlinewidth\":0,\"ticks\":\"\"}},\"type\":\"scatter\"}],\"scatter3d\":[{\"line\":{\"colorbar\":{\"outlinewidth\":0,\"ticks\":\"\"}},\"marker\":{\"colorbar\":{\"outlinewidth\":0,\"ticks\":\"\"}},\"type\":\"scatter3d\"}],\"scattercarpet\":[{\"marker\":{\"colorbar\":{\"outlinewidth\":0,\"ticks\":\"\"}},\"type\":\"scattercarpet\"}],\"scattergeo\":[{\"marker\":{\"colorbar\":{\"outlinewidth\":0,\"ticks\":\"\"}},\"type\":\"scattergeo\"}],\"scattergl\":[{\"marker\":{\"colorbar\":{\"outlinewidth\":0,\"ticks\":\"\"}},\"type\":\"scattergl\"}],\"scattermapbox\":[{\"marker\":{\"colorbar\":{\"outlinewidth\":0,\"ticks\":\"\"}},\"type\":\"scattermapbox\"}],\"scatterpolar\":[{\"marker\":{\"colorbar\":{\"outlinewidth\":0,\"ticks\":\"\"}},\"type\":\"scatterpolar\"}],\"scatterpolargl\":[{\"marker\":{\"colorbar\":{\"outlinewidth\":0,\"ticks\":\"\"}},\"type\":\"scatterpolargl\"}],\"scatterternary\":[{\"marker\":{\"colorbar\":{\"outlinewidth\":0,\"ticks\":\"\"}},\"type\":\"scatterternary\"}],\"surface\":[{\"colorbar\":{\"outlinewidth\":0,\"ticks\":\"\"},\"colorscale\":[[0.0,\"#0d0887\"],[0.1111111111111111,\"#46039f\"],[0.2222222222222222,\"#7201a8\"],[0.3333333333333333,\"#9c179e\"],[0.4444444444444444,\"#bd3786\"],[0.5555555555555556,\"#d8576b\"],[0.6666666666666666,\"#ed7953\"],[0.7777777777777778,\"#fb9f3a\"],[0.8888888888888888,\"#fdca26\"],[1.0,\"#f0f921\"]],\"type\":\"surface\"}],\"table\":[{\"cells\":{\"fill\":{\"color\":\"#EBF0F8\"},\"line\":{\"color\":\"white\"}},\"header\":{\"fill\":{\"color\":\"#C8D4E3\"},\"line\":{\"color\":\"white\"}},\"type\":\"table\"}]},\"layout\":{\"annotationdefaults\":{\"arrowcolor\":\"#2a3f5f\",\"arrowhead\":0,\"arrowwidth\":1},\"autotypenumbers\":\"strict\",\"coloraxis\":{\"colorbar\":{\"outlinewidth\":0,\"ticks\":\"\"}},\"colorscale\":{\"diverging\":[[0,\"#8e0152\"],[0.1,\"#c51b7d\"],[0.2,\"#de77ae\"],[0.3,\"#f1b6da\"],[0.4,\"#fde0ef\"],[0.5,\"#f7f7f7\"],[0.6,\"#e6f5d0\"],[0.7,\"#b8e186\"],[0.8,\"#7fbc41\"],[0.9,\"#4d9221\"],[1,\"#276419\"]],\"sequential\":[[0.0,\"#0d0887\"],[0.1111111111111111,\"#46039f\"],[0.2222222222222222,\"#7201a8\"],[0.3333333333333333,\"#9c179e\"],[0.4444444444444444,\"#bd3786\"],[0.5555555555555556,\"#d8576b\"],[0.6666666666666666,\"#ed7953\"],[0.7777777777777778,\"#fb9f3a\"],[0.8888888888888888,\"#fdca26\"],[1.0,\"#f0f921\"]],\"sequentialminus\":[[0.0,\"#0d0887\"],[0.1111111111111111,\"#46039f\"],[0.2222222222222222,\"#7201a8\"],[0.3333333333333333,\"#9c179e\"],[0.4444444444444444,\"#bd3786\"],[0.5555555555555556,\"#d8576b\"],[0.6666666666666666,\"#ed7953\"],[0.7777777777777778,\"#fb9f3a\"],[0.8888888888888888,\"#fdca26\"],[1.0,\"#f0f921\"]]},\"colorway\":[\"#636efa\",\"#EF553B\",\"#00cc96\",\"#ab63fa\",\"#FFA15A\",\"#19d3f3\",\"#FF6692\",\"#B6E880\",\"#FF97FF\",\"#FECB52\"],\"font\":{\"color\":\"#2a3f5f\"},\"geo\":{\"bgcolor\":\"white\",\"lakecolor\":\"white\",\"landcolor\":\"#E5ECF6\",\"showlakes\":true,\"showland\":true,\"subunitcolor\":\"white\"},\"hoverlabel\":{\"align\":\"left\"},\"hovermode\":\"closest\",\"mapbox\":{\"style\":\"light\"},\"paper_bgcolor\":\"white\",\"plot_bgcolor\":\"#E5ECF6\",\"polar\":{\"angularaxis\":{\"gridcolor\":\"white\",\"linecolor\":\"white\",\"ticks\":\"\"},\"bgcolor\":\"#E5ECF6\",\"radialaxis\":{\"gridcolor\":\"white\",\"linecolor\":\"white\",\"ticks\":\"\"}},\"scene\":{\"xaxis\":{\"backgroundcolor\":\"#E5ECF6\",\"gridcolor\":\"white\",\"gridwidth\":2,\"linecolor\":\"white\",\"showbackground\":true,\"ticks\":\"\",\"zerolinecolor\":\"white\"},\"yaxis\":{\"backgroundcolor\":\"#E5ECF6\",\"gridcolor\":\"white\",\"gridwidth\":2,\"linecolor\":\"white\",\"showbackground\":true,\"ticks\":\"\",\"zerolinecolor\":\"white\"},\"zaxis\":{\"backgroundcolor\":\"#E5ECF6\",\"gridcolor\":\"white\",\"gridwidth\":2,\"linecolor\":\"white\",\"showbackground\":true,\"ticks\":\"\",\"zerolinecolor\":\"white\"}},\"shapedefaults\":{\"line\":{\"color\":\"#2a3f5f\"}},\"ternary\":{\"aaxis\":{\"gridcolor\":\"white\",\"linecolor\":\"white\",\"ticks\":\"\"},\"baxis\":{\"gridcolor\":\"white\",\"linecolor\":\"white\",\"ticks\":\"\"},\"bgcolor\":\"#E5ECF6\",\"caxis\":{\"gridcolor\":\"white\",\"linecolor\":\"white\",\"ticks\":\"\"}},\"title\":{\"x\":0.05},\"xaxis\":{\"automargin\":true,\"gridcolor\":\"white\",\"linecolor\":\"white\",\"ticks\":\"\",\"title\":{\"standoff\":15},\"zerolinecolor\":\"white\",\"zerolinewidth\":2},\"yaxis\":{\"automargin\":true,\"gridcolor\":\"white\",\"linecolor\":\"white\",\"ticks\":\"\",\"title\":{\"standoff\":15},\"zerolinecolor\":\"white\",\"zerolinewidth\":2}}},\"xaxis\":{\"anchor\":\"y\",\"domain\":[0.0,0.94],\"title\":{\"text\":\"Epoch\"}},\"yaxis\":{\"anchor\":\"x\",\"domain\":[0.0,1.0],\"title\":{\"text\":\"<b></b> Loss\"}},\"yaxis2\":{\"anchor\":\"x\",\"overlaying\":\"y\",\"side\":\"right\",\"title\":{\"text\":\"<b></b> Accuracy\"}},\"title\":{\"text\":\"Accuracy and Loss \"}},                        {\"responsive\": true}                    ).then(function(){\n",
              "                            \n",
              "var gd = document.getElementById('b16809db-edd5-466b-973b-e978a1376a84');\n",
              "var x = new MutationObserver(function (mutations, observer) {{\n",
              "        var display = window.getComputedStyle(gd).display;\n",
              "        if (!display || display === 'none') {{\n",
              "            console.log([gd, 'removed!']);\n",
              "            Plotly.purge(gd);\n",
              "            observer.disconnect();\n",
              "        }}\n",
              "}});\n",
              "\n",
              "// Listen for the removal of the full notebook cells\n",
              "var notebookContainer = gd.closest('#notebook-container');\n",
              "if (notebookContainer) {{\n",
              "    x.observe(notebookContainer, {childList: true});\n",
              "}}\n",
              "\n",
              "// Listen for the clearing of the current output cell\n",
              "var outputEl = gd.closest('.output');\n",
              "if (outputEl) {{\n",
              "    x.observe(outputEl, {childList: true});\n",
              "}}\n",
              "\n",
              "                        })                };                            </script>        </div>\n",
              "</body>\n",
              "</html>"
            ]
          },
          "metadata": {},
          "output_type": "display_data"
        }
      ],
      "source": [
        "import plotly.graph_objects as go\n",
        "from plotly.subplots import make_subplots\n",
        "\n",
        "#Graph for loss and accuracy for both training and validation\n",
        "\n",
        "# Create figure with secondary y-axis\n",
        "fig = make_subplots(specs=[[{\"secondary_y\": True}]])\n",
        "\n",
        "# Add traces\n",
        "fig.add_trace(\n",
        "    go.Scatter( y=vgghist.history['val_loss'], name=\"Validation loss\"),\n",
        "    secondary_y=False,\n",
        ")\n",
        "\n",
        "fig.add_trace(\n",
        "    go.Scatter( y=vgghist.history['loss'], name=\"Loss\"),\n",
        "    secondary_y=False,\n",
        ")\n",
        "\n",
        "fig.add_trace(\n",
        "    go.Scatter( y=vgghist.history['val_acc'], name=\"Validation accuracy\"),\n",
        "    secondary_y=True,\n",
        ")\n",
        "\n",
        "fig.add_trace(\n",
        "    go.Scatter( y=vgghist.history['acc'], name=\"Accuracy\"),\n",
        "    secondary_y=True,\n",
        ")\n",
        "\n",
        "# Add figure title\n",
        "fig.update_layout(\n",
        "    title_text=\"Accuracy and Loss \"\n",
        ")\n",
        "\n",
        "# Set x-axis title\n",
        "fig.update_xaxes(title_text=\"Epoch\")\n",
        "\n",
        "# Set y-axes titles\n",
        "fig.update_yaxes(title_text=\"<b></b> Loss\", secondary_y=False)\n",
        "fig.update_yaxes(title_text=\"<b></b> Accuracy\", secondary_y=True)\n",
        "\n",
        "fig.show()"
      ]
    }
  ],
  "metadata": {
    "colab": {
      "provenance": [],
      "include_colab_link": true
    },
    "kernelspec": {
      "display_name": "Python 3",
      "name": "python3"
    },
    "language_info": {
      "name": "python"
    }
  },
  "nbformat": 4,
  "nbformat_minor": 0
}